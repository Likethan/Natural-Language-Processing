{
  "nbformat": 4,
  "nbformat_minor": 0,
  "metadata": {
    "colab": {
      "provenance": []
    },
    "kernelspec": {
      "name": "python3",
      "display_name": "Python 3"
    },
    "language_info": {
      "name": "python"
    }
  },
  "cells": [
    {
      "cell_type": "code",
      "execution_count": 1,
      "metadata": {
        "colab": {
          "base_uri": "https://localhost:8080/"
        },
        "id": "zMMhn6ZKW5Dy",
        "outputId": "52922933-2d12-444f-9e3d-1ca675b19a35"
      },
      "outputs": [
        {
          "output_type": "stream",
          "name": "stdout",
          "text": [
            "=== Bag of Words (BoW) ===\n",
            "[[0 0 1 1 1 1 0 0 0 1 0]\n",
            " [1 0 0 1 0 0 1 0 0 2 0]\n",
            " [1 0 0 1 0 0 0 0 1 0 1]\n",
            " [0 1 1 1 0 0 0 1 0 0 0]]\n",
            "Vocabulary: ['cool' 'data' 'fun' 'is' 'learning' 'machine' 'python' 'science'\n",
            " 'statistics' 'super' 'too']\n",
            "\n",
            "=== TF-IDF ===\n",
            "[[0.         0.         0.42049337 0.27832025 0.53334252 0.53334252\n",
            "  0.         0.         0.         0.42049337 0.        ]\n",
            " [0.37670546 0.         0.         0.24933748 0.         0.\n",
            "  0.47780311 0.         0.         0.75341092 0.        ]\n",
            " [0.46345796 0.         0.         0.30675807 0.         0.\n",
            "  0.         0.         0.58783765 0.         0.58783765]\n",
            " [0.         0.58783765 0.46345796 0.30675807 0.         0.\n",
            "  0.         0.58783765 0.         0.         0.        ]]\n",
            "Vocabulary: ['cool' 'data' 'fun' 'is' 'learning' 'machine' 'python' 'science'\n",
            " 'statistics' 'super' 'too']\n"
          ]
        }
      ],
      "source": [
        "from sklearn.feature_extraction.text import CountVectorizer, TfidfVectorizer\n",
        "\n",
        "# Sample corpus\n",
        "corpus = [\n",
        "    \"Machine learning is super fun\",\n",
        "    \"Python is super, super cool\",\n",
        "    \"Statistics is cool, too\",\n",
        "    \"Data science is fun\"\n",
        "]\n",
        "\n",
        "# ----------------------------\n",
        "# 1. Bag of Words (BoW)\n",
        "# ----------------------------\n",
        "bow_vectorizer = CountVectorizer()\n",
        "bow_matrix = bow_vectorizer.fit_transform(corpus)\n",
        "\n",
        "print(\"=== Bag of Words (BoW) ===\")\n",
        "print(bow_matrix.toarray())\n",
        "print(\"Vocabulary:\", bow_vectorizer.get_feature_names_out())\n",
        "\n",
        "# ----------------------------\n",
        "# 2. TF-IDF (Term Frequency-Inverse Document Frequency)\n",
        "# ----------------------------\n",
        "tfidf_vectorizer = TfidfVectorizer()\n",
        "tfidf_matrix = tfidf_vectorizer.fit_transform(corpus)\n",
        "\n",
        "print(\"\\n=== TF-IDF ===\")\n",
        "print(tfidf_matrix.toarray())\n",
        "print(\"Vocabulary:\", tfidf_vectorizer.get_feature_names_out())\n"
      ]
    }
  ]
}